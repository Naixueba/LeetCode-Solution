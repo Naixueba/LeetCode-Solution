{
 "cells": [
  {
   "cell_type": "code",
   "execution_count": 120,
   "id": "initial_id",
   "metadata": {
    "collapsed": true,
    "ExecuteTime": {
     "end_time": "2024-09-02T16:11:56.561057Z",
     "start_time": "2024-09-02T16:11:56.526489Z"
    }
   },
   "outputs": [
    {
     "name": "stdout",
     "output_type": "stream",
     "text": [
      "j=0, i=-1, temp=1, result=0\n",
      "dic={'a': 0}, temp=1, result=1\n",
      "j=1, i=-1, temp=2, result=1\n",
      "dic={'a': 0, 'b': 1}, temp=2, result=2\n",
      "j=2, i=-1, temp=3, result=2\n",
      "dic={'a': 0, 'b': 1, 'c': 2}, temp=3, result=3\n",
      "dic={'a': 3, 'b': 1, 'c': 2}, temp=3, result=3\n",
      "dic={'a': 3, 'b': 4, 'c': 2}, temp=3, result=3\n",
      "dic={'a': 3, 'b': 4, 'c': 5}, temp=3, result=3\n",
      "dic={'a': 3, 'b': 6, 'c': 5}, temp=2, result=3\n",
      "dic={'a': 3, 'b': 7, 'c': 5}, temp=1, result=3\n"
     ]
    }
   ],
   "source": [
    "# leetcode-3: 无重复字符的最长子串\n",
    "\n",
    "def lengthOfLongestSubstring(s: str) -> int:\n",
    "    # solution-1: hash table\n",
    "    # '''\n",
    "    dic = {}\n",
    "    temp = 0\n",
    "    result = 0\n",
    "    for j in range(len(s)):\n",
    "        i = dic.get(s[j], -1)   # get the index of the last same character\n",
    "        dic[s[j]] = j           # update the index of the new character\n",
    "        \n",
    "        # update the length of the substring\n",
    "        if temp < j - i:        \n",
    "            # if the new character is not in the substring, temp += 1\n",
    "            temp += 1\n",
    "            print(f'j={j}, i={i}, temp={temp}, result={result}')\n",
    "        else:\n",
    "            temp = j - i\n",
    "        result = max(temp, result)\n",
    "        print(f'dic={dic}, temp={temp}, result={result}')\n",
    "    # '''\n",
    "\n",
    "    # solution-2: sliding window\n",
    "    '''\n",
    "    if not s:\n",
    "        return 0\n",
    "\n",
    "    left = 0\n",
    "    cur_length, max_length = 0, 0\n",
    "    lookup = set()\n",
    "    for i in range(len(s)):\n",
    "        cur_length += 1\n",
    "\n",
    "        # slide towards right\n",
    "        while s[i] in lookup:\n",
    "            lookup.remove(s[left])         # set() use .remove() to remove components\n",
    "            cur_length -= 1\n",
    "            left += 1\n",
    "\n",
    "        # add new char into lookup\n",
    "        lookup.add(s[i])                # set() use .add() to insert new components\n",
    "        print(f'lookup={lookup}')\n",
    "        \n",
    "        # update max_length only if when it's < cur_length\n",
    "        if max_length < cur_length:\n",
    "            max_length = cur_length\n",
    "        \n",
    "    return max_length\n",
    "    '''\n",
    "\n",
    "test = 'abcabcbb'\n",
    "# test = 'pwwkew'\n",
    "lengthOfLongestSubstring(test)"
   ]
  },
  {
   "cell_type": "code",
   "outputs": [
    {
     "name": "stdout",
     "output_type": "stream",
     "text": [
      "[[-1, -1, 2], [-1, 0, 1]]\n"
     ]
    }
   ],
   "source": [
    "# leetcode-15: 三数之和\n",
    "def threeSum(nums):\n",
    "    n = len(nums)\n",
    "    nums.sort()\n",
    "    results = []\n",
    "\n",
    "    for first in range(n):\n",
    "        # skip the same number\n",
    "        if first>0 and nums[first] == nums[first-1]:\n",
    "            continue\n",
    "        \n",
    "        # two pointers\n",
    "        third = n - 1\n",
    "        target = -nums[first]\n",
    "\n",
    "        for second in range(first+1, n):    # loop from first to n-1\n",
    "            # skip the same number\n",
    "            if second > first+1 and nums[second] == nums[second-1]:\n",
    "                continue\n",
    "            # move the third pointer\n",
    "            while second < third and nums[second] + nums[third] > target:\n",
    "                third -= 1\n",
    "            # if two pointers meet, break\n",
    "            if second == third:\n",
    "                break\n",
    "            if nums[second] + nums[third] == target:\n",
    "                results.append([nums[first], nums[second], nums[third]])\n",
    "    \n",
    "    return results \n",
    "\n",
    "test = [-1, 0, 1, 2, -1, -4]\n",
    "print(threeSum(test))"
   ],
   "metadata": {
    "collapsed": false,
    "ExecuteTime": {
     "end_time": "2024-08-29T14:24:38.883764Z",
     "start_time": "2024-08-29T14:24:38.861834Z"
    }
   },
   "id": "2ecb8cd27af4524c",
   "execution_count": 14
  },
  {
   "cell_type": "code",
   "outputs": [
    {
     "name": "stdout",
     "output_type": "stream",
     "text": [
      "{3: 0}\n",
      "{3: 0, 2: 1}\n",
      "[1, 2]\n"
     ]
    }
   ],
   "source": [
    "# leetcode-1: 两数之和\n",
    "\n",
    "# solution-1: two pointers\n",
    "def twoSum_1(nums, target):\n",
    "    n = len(nums)\n",
    "    nums = sorted(zip(nums, range(n)), key=lambda x: x[0])\n",
    "    \n",
    "    left, right = 0, n-1\n",
    "    while left < right:\n",
    "        if nums[left][0] + nums[right][0] == target:\n",
    "            return [nums[left][1], nums[right][1]]\n",
    "        elif nums[left][0] + nums[right][0] < target:\n",
    "            left += 1\n",
    "        else:\n",
    "            right -= 1\n",
    "            \n",
    "# solution-2: hash table\n",
    "def twoSum(nums, target):\n",
    "    hashtable = dict()\n",
    "    for i, num in enumerate(nums):\n",
    "        if (target-num) in hashtable:\n",
    "            return [hashtable[target-num], i]\n",
    "        hashtable[num] = i\n",
    "        print(hashtable)\n",
    "\n",
    "test_1 = [2, 7, 11, 15]\n",
    "target_1 = 9\n",
    "\n",
    "test_2 = [3,2,4]\n",
    "target_2 = 6\n",
    "print(twoSum(test_2, target_2))"
   ],
   "metadata": {
    "collapsed": false,
    "ExecuteTime": {
     "end_time": "2024-08-30T12:27:18.237637Z",
     "start_time": "2024-08-30T12:27:18.217543Z"
    }
   },
   "id": "7b06ab690d567da4",
   "execution_count": 51
  },
  {
   "cell_type": "code",
   "outputs": [
    {
     "name": "stdout",
     "output_type": "stream",
     "text": [
      "p=(, stack=['(']\n",
      "p=), stack=[]\n",
      "p=[, stack=['[']\n",
      "p=], stack=[]\n",
      "False\n"
     ]
    }
   ],
   "source": [
    "# leetcode-20: 有效的括号\n",
    "def isValid(s):\n",
    "    # stack = []\n",
    "    # dic = {')':'(', ']':'[', '}':'{'}\n",
    "    # for char in s:\n",
    "    #     if char in dic:\n",
    "    #         if not stack or stack[-1] != dic[char]:\n",
    "    #             return False\n",
    "    #         stack.pop()\n",
    "    #     else:\n",
    "    #         stack.append(char)\n",
    "    # return not stack\n",
    "    \n",
    "    stack = []\n",
    "    dic ={')': '(', ']': '[', '}': '{'}\n",
    "    for char in s:\n",
    "        if char in dic:\n",
    "            if not stack or stack[-1] != dic[char]:\n",
    "                return False\n",
    "            stack.pop()\n",
    "            print(f'p={char}, stack={stack}')\n",
    "        else:\n",
    "            stack.append(char)\n",
    "            print(f'p={char}, stack={stack}')\n",
    "        \n",
    "    return not stack\n",
    "\n",
    "test = '()[]]{}'\n",
    "print(isValid(test))"
   ],
   "metadata": {
    "collapsed": false,
    "ExecuteTime": {
     "end_time": "2024-08-30T12:52:09.864359Z",
     "start_time": "2024-08-30T12:52:09.845074Z"
    }
   },
   "id": "bd1873e7595a3f24",
   "execution_count": 56
  },
  {
   "cell_type": "code",
   "outputs": [
    {
     "name": "stdout",
     "output_type": "stream",
     "text": [
      "1. k=1, x=0, nums=[0, 1, 2, 2, 3, 0, 4, 2]\n",
      "1. k=2, x=1, nums=[0, 1, 2, 2, 3, 0, 4, 2]\n",
      "2. k=2, x=2, nums=[0, 1, 2, 2, 3, 0, 4, 2]\n",
      "2. k=2, x=2, nums=[0, 1, 2, 2, 3, 0, 4, 2]\n",
      "1. k=3, x=3, nums=[0, 1, 2, 2, 3, 0, 4, 2]\n",
      "1. k=4, x=0, nums=[0, 1, 2, 2, 3, 0, 4, 2]\n",
      "1. k=5, x=4, nums=[0, 1, 2, 2, 3, 0, 4, 2]\n",
      "2. k=5, x=2, nums=[0, 1, 2, 2, 3, 0, 4, 2]\n",
      "5\n"
     ]
    }
   ],
   "source": [
    "# leetcode-27\n",
    "def removeElement(nums, val):\n",
    "    k = 0\n",
    "    for x in nums:\n",
    "        if x != val:\n",
    "            nums[k] = x\n",
    "            k += 1\n",
    "            print(f'1. k={k}, x={x}, nums={nums}')\n",
    "        else:\n",
    "            print(f'2. k={k}, x={x}, nums={nums}')\n",
    "    return k\n",
    "test = [0,1,2,2,3,0,4,2]\n",
    "result = removeElement(test, 2)\n",
    "print(result)"
   ],
   "metadata": {
    "collapsed": false,
    "ExecuteTime": {
     "end_time": "2024-08-30T13:36:04.455998Z",
     "start_time": "2024-08-30T13:36:04.385765Z"
    }
   },
   "id": "7e0dcbf923356960",
   "execution_count": 73
  },
  {
   "cell_type": "code",
   "outputs": [
    {
     "name": "stdout",
     "output_type": "stream",
     "text": [
      "val1=2, val2=5, carry=0, val=7, node=7\n",
      "val1=4, val2=6, carry=1, val=0, node=0\n",
      "val1=3, val2=0, carry=0, val=4, node=4\n",
      "7\n",
      "0\n",
      "4\n"
     ]
    }
   ],
   "source": [
    "# leetcode-2: 两数相加\n",
    "class ListNode:\n",
    "    def __init__(self, val=0, next=None):\n",
    "        self.val = val\n",
    "        self.next = next\n",
    "    \n",
    "def addTwoNumbers(l1, l2):\n",
    "    head = ListNode(0)\n",
    "    node = head\n",
    "    carry = 0\n",
    "    while l1 or l2 or carry:\n",
    "        val1 = l1.val if l1 else 0\n",
    "        val2 = l2.val if l2 else 0\n",
    "        carry, val = divmod(val1 + val2 + carry, 10)\n",
    "        node.next = ListNode(val)       # create a new node\n",
    "        node = node.next                # move the pointer\n",
    "        # node = ListNode(val)          # wrong: create a new node, but not move the pointer\n",
    "        print(f'val1={val1}, val2={val2}, carry={carry}, val={val}, node={node.val}')\n",
    "        l1 = l1.next if l1 else None\n",
    "        l2 = l2.next if l2 else None\n",
    "    return head.next\n",
    "\n",
    "test = ListNode(2, ListNode(4, ListNode(3)))\n",
    "test_2 = ListNode(5, ListNode(6))\n",
    "result = addTwoNumbers(test, test_2)\n",
    "while result:\n",
    "    print(result.val)\n",
    "    result = result.next"
   ],
   "metadata": {
    "collapsed": false,
    "ExecuteTime": {
     "end_time": "2024-08-30T16:30:55.884723Z",
     "start_time": "2024-08-30T16:30:55.869802Z"
    }
   },
   "id": "71f7101662e6b680",
   "execution_count": 86
  },
  {
   "cell_type": "code",
   "outputs": [
    {
     "data": {
      "text/plain": "3"
     },
     "execution_count": 99,
     "metadata": {},
     "output_type": "execute_result"
    }
   ],
   "source": [
    "# leetcode-72: 编辑距离\n",
    "def minDistance(word1, word2):\n",
    "    m = len(word1)\n",
    "    n = len(word2)\n",
    "    \n",
    "    # mind the empty string\n",
    "    if m*n == 0:\n",
    "        return m+n\n",
    "    \n",
    "    # define the array\n",
    "    D = [[0] * (n+1) for _ in range(m+1)]\n",
    "    for i in range(m+1):        # mind the boundary, aug.31\n",
    "        D[i][0] = i\n",
    "    for j in range(n+1):        # mind the boundary, aug.31\n",
    "        D[0][j] = j\n",
    "    \n",
    "    # DP\n",
    "    for i in range(1, m+1):\n",
    "        for j in range(1, n+1):\n",
    "            left = D[i-1][j] + 1\n",
    "            up = D[i][j-1] + 1\n",
    "            left_up = D[i-1][j-1]\n",
    "            if word1[i-1] != word2[j-1]:\n",
    "                left_up += 1\n",
    "            D[i][j] = min(left, up, left_up)\n",
    "\n",
    "    return D[i][j]\n",
    "    \n",
    "test_1 = 'horse'\n",
    "test_2 = 'ros'\n",
    "minDistance(test_1, test_2)"
   ],
   "metadata": {
    "collapsed": false,
    "ExecuteTime": {
     "end_time": "2024-08-31T13:43:26.819909Z",
     "start_time": "2024-08-31T13:43:26.762615Z"
    }
   },
   "id": "53f4c3e57b9d711b",
   "execution_count": 99
  },
  {
   "cell_type": "code",
   "outputs": [],
   "source": [
    "# leetcode-5: 最长回文子串\n",
    "def longestPalindrome(s):\n",
    "    n = len(s)\n",
    "    if n < 2:\n",
    "        return s\n",
    "    \n",
    "    max_len = 1\n",
    "    begin = 0\n",
    "    dp = [[False] * n for _ in range(n)]\n",
    "    for i in range(n):\n",
    "        dp[i][i] = True\n",
    "    \n",
    "    for L in range(2, n+1):\n",
    "        for i in range(n):\n",
    "            j = L + i - 1\n",
    "            if j >= n:\n",
    "                break\n",
    "            if s[i] != s[j]:\n",
    "                dp[i][j] = False\n",
    "            else:\n",
    "                if j - i < 3:\n",
    "                    dp[i][j] = True\n",
    "                else:\n",
    "                    dp[i][j] = dp[i+1][j-1]\n",
    "            if dp[i][j] and j-i+1 > max_len:\n",
    "                max_len = j - i + 1\n",
    "                begin = i\n",
    "    return s[begin:begin+max_len]\n",
    "    "
   ],
   "metadata": {
    "collapsed": false
   },
   "id": "955d9ab154f640b3"
  },
  {
   "cell_type": "code",
   "outputs": [
    {
     "name": "stdout",
     "output_type": "stream",
     "text": [
      "nums1.len=6\n",
      "nums1.len=7\n",
      "[1, 2, 2, 3, 5, 6, 7]\n"
     ]
    }
   ],
   "source": [
    "# leetcode-88: 合并两个有序数组\n",
    "def merge(nums1, m, nums2, n):\n",
    "    # solution-1: directly merge and sort\n",
    "    print(f'nums1.len={len(nums1)}')\n",
    "    nums1[m:] = nums2\n",
    "    print(f'nums1.len={len(nums1)}')\n",
    "    nums1.sort()\n",
    "    return nums1\n",
    "\n",
    "test_1 = [1,2,3,0,0,0]\n",
    "test_2 = [2,5,6, 7]\n",
    "print(merge(test_1, 3, test_2, 4))"
   ],
   "metadata": {
    "collapsed": false,
    "ExecuteTime": {
     "end_time": "2024-08-31T16:23:38.480080Z",
     "start_time": "2024-08-31T16:23:38.465359Z"
    }
   },
   "id": "eaa9b6f69853315a",
   "execution_count": 102
  },
  {
   "cell_type": "code",
   "outputs": [
    {
     "name": "stdout",
     "output_type": "stream",
     "text": [
      "[1, 3, 2]\n"
     ]
    }
   ],
   "source": [
    "# leetcode-31: 下一个排列\n",
    "def nextPermutation(nums):\n",
    "    \"\"\"\n",
    "    Do not return anything, modify nums in-place instead.\n",
    "    答题思路：从后往前寻找第一个升序对(i,j)即nums[i]<nums[j] 再从后往前找第一个大于nums[i]的数即为大数，交换着两个元素即将大数换到前面，然后将大数后面的部分倒序\n",
    "    \"\"\"\n",
    "    n = len(nums)\n",
    "    if n<2: return nums\n",
    "    i = n-1\n",
    "    while i>0 and nums[i-1]>=nums[i]:#要是前者大于等于后者 则不是要调整的目标 继续前移  ！第一遍出错就是这儿没有等于\n",
    "        i -= 1\n",
    "    if i==0: #此数为最大数（之前写的 i==0 and nums[i]==max(nums)，判断冗余，现删除）\n",
    "        return nums.reverse()\n",
    "    else:                          \n",
    "        j = n-1\n",
    "        while j>i-1 and nums[j]<=nums[i-1]:\n",
    "            j -= 1\n",
    "        nums[i-1], nums[j] = nums[j], nums[i-1]\n",
    "        nums[i:] = nums[i:][::-1]       # reverse the list\n",
    "        return nums\n",
    "\n",
    "test = [1,2,3]\n",
    "print(nextPermutation(test))\n"
   ],
   "metadata": {
    "collapsed": false,
    "ExecuteTime": {
     "end_time": "2024-09-05T14:18:30.604852Z",
     "start_time": "2024-09-05T14:18:30.313811Z"
    }
   },
   "id": "9daeb88a96987b59",
   "execution_count": 121
  },
  {
   "cell_type": "code",
   "outputs": [],
   "source": [
    "# leetcode-11: 盛最多水的容器\n",
    "def maxArea(height):\n",
    "    # solution-1: two pointers\n",
    "    n = len(height)\n",
    "    left, right = 0, n-1\n",
    "    max_area = 0\n",
    "    while left < right:\n",
    "        max_area = max(max_area, min(height[left], height[right]) * (right - left))\n",
    "        if height[left] < height[right]:\n",
    "            left += 1\n",
    "        else:\n",
    "            right -= 1\n",
    "    return max_area"
   ],
   "metadata": {
    "collapsed": false
   },
   "id": "1841710baf3a7b16"
  },
  {
   "cell_type": "code",
   "outputs": [
    {
     "name": "stdout",
     "output_type": "stream",
     "text": [
      "2\n",
      "1\n",
      "4\n",
      "3\n"
     ]
    }
   ],
   "source": [
    "# leetcode-24: 两两交换链表中的节点\n",
    "def swapPairs(head):\n",
    "    # solution-1: recursive\n",
    "    if not head or not head.next:\n",
    "        return head\n",
    "    first_node = head\n",
    "    second_node = head.next\n",
    "    first_node.next = swapPairs(second_node.next)\n",
    "    second_node.next = first_node\n",
    "    return second_node\n",
    "\n",
    "test = ListNode(1, ListNode(2, ListNode(3, ListNode(4))))\n",
    "result = swapPairs(test)\n",
    "while result:\n",
    "    print(result.val)\n",
    "    result = result.next"
   ],
   "metadata": {
    "collapsed": false,
    "ExecuteTime": {
     "end_time": "2024-09-06T16:00:45.065756Z",
     "start_time": "2024-09-06T16:00:44.840285Z"
    }
   },
   "id": "46609f118f1708b9",
   "execution_count": 122
  },
  {
   "cell_type": "code",
   "outputs": [
    {
     "name": "stdout",
     "output_type": "stream",
     "text": [
      "8\n"
     ]
    }
   ],
   "source": [
    "def climbStairs(n: int) -> int:\n",
    "        # DP: sept.08\n",
    "        dp = [0]* (n + 1) \n",
    "        dp[1] = 1\n",
    "        dp[2] = 2\n",
    "        for i in range(3, n+1):\n",
    "            dp[i] = dp[i-1] + dp[i-2]\n",
    "        return dp[-1]\n",
    "test = 5\n",
    "print(climbStairs(test))"
   ],
   "metadata": {
    "collapsed": false,
    "ExecuteTime": {
     "end_time": "2024-09-08T15:34:18.649301Z",
     "start_time": "2024-09-08T15:34:18.641547Z"
    }
   },
   "id": "d445ba0e4d2ac35a",
   "execution_count": 125
  },
  {
   "cell_type": "code",
   "outputs": [
    {
     "name": "stdout",
     "output_type": "stream",
     "text": [
      "dp=[[99999, 99999, 99999, 99999, 99999], [99999, 99999, 99999, 99999, 99999], [99999, 99999, 99999, 99999, 99999], [99999, 99999, 99999, 99999, 99999]]\n",
      "dp=[[0, 0, 0, 0, 0], [99999, 99999, 99999, 99999, 99999], [99999, 99999, 99999, 99999, 99999], [99999, 99999, 99999, 99999, 99999]]\n",
      "dp=[[0, 0, 0, 0, 0], [99999, 2, 1, 3, 99999], [99999, 6, 5, 4, 99999], [99999, 7, 8, 9, 99999]]\n",
      "13\n"
     ]
    }
   ],
   "source": [
    "# leetcocd-931: 下降路径最小和\n",
    "def minFallingPathSum(matrix):\n",
    "    n = len(matrix)\n",
    "    dp = [[99999]*(n+2) for _ in range(n+1)] # n+2表示在左右边界竖上两道墙，简化j-1和j+1的边界\n",
    "    print(f'dp={dp}')\n",
    "    dp[0] = [0]*(n+2) # 第0行初始为0，这样题目中第一行随便取可以达成\n",
    "    print(f'dp={dp}')\n",
    "    \n",
    "    for i in range(1, n+1): # 初始化dp数组的值为matrix内的值\n",
    "        for j in range(1, n+1):\n",
    "            dp[i][j] = matrix[i-1][j-1]\n",
    "    print(f'dp={dp}')\n",
    "    \n",
    "    for i in range(1, n+1):\n",
    "        for j in range(1, n+1):\n",
    "            dp[i][j] += min(dp[i-1][j-1], dp[i-1][j], dp[i-1][j+1]) # 状态转移\n",
    "\n",
    "    return min(dp[-1]) # 返回最后一行的最小值\n",
    "\n",
    "test = [[2,1,3],[6,5,4],[7,8,9]]\n",
    "print(minFallingPathSum(test))"
   ],
   "metadata": {
    "collapsed": false,
    "ExecuteTime": {
     "end_time": "2024-09-11T13:46:32.819066Z",
     "start_time": "2024-09-11T13:46:32.809452Z"
    }
   },
   "id": "7016afb5b0caf111",
   "execution_count": 129
  },
  {
   "cell_type": "code",
   "outputs": [],
   "source": [
    "# leetcode-712: 两个字符串的最小ASCII删除和\n",
    "def minimumDeleteSum(s1, s2):\n",
    "    # sept.17\n",
    "    m, n = len(s1), len(s2)\n",
    "    dp = [[0]*(n+1) for _ in range(m+1)]\n",
    "    for i in range(m+1):                     # mind the initialization\n",
    "        dp[i][0] = dp[i-1][0] + ord(s1[i-1])\n",
    "    for j in range(n+1):                     # mind the initialization\n",
    "        dp[0][j] = dp[0][j-1] + ord(s2[j-1])\n",
    "    for i in range(1, m+1):\n",
    "        for j in range(1, n+1):\n",
    "            if s1[i-1] == s2[j-1]:\n",
    "                dp[i][j] = dp[i-1][j-1]\n",
    "            else:\n",
    "                dp[i][j] = min(dp[i-1][j]+ord(s1[i-1]), dp[i][j-1]+ord(s2[j-1]))\n",
    "    return dp[m][n]"
   ],
   "metadata": {
    "collapsed": false
   },
   "id": "5e451a1453d06309"
  },
  {
   "cell_type": "code",
   "outputs": [
    {
     "name": "stdout",
     "output_type": "stream",
     "text": [
      "dp=[1, 2, 3, 3, 4], max_length=4\n",
      "1\n"
     ]
    }
   ],
   "source": [
    "# leetcode-673: 最长递增子序列的个数\n",
    "def findNumberOfLIS(nums):\n",
    "        if not nums:\n",
    "            return 0\n",
    "        n = len(nums)\n",
    "        dp = [1] * n\n",
    "        for i in range(n):\n",
    "            for j in range(i):\n",
    "                if nums[j] < nums[i]:\n",
    "                    dp[i] = max(dp[i], dp[j]+1)\n",
    "        max_length = max(dp)\n",
    "        print(f'dp={dp}, max_length={max_length}')\n",
    "        res = dp.count(max_length)\n",
    "        return res\n",
    "test = [1,3,5,4,7]\n",
    "print(findNumberOfLIS(test))"
   ],
   "metadata": {
    "collapsed": false,
    "ExecuteTime": {
     "end_time": "2024-09-18T14:44:25.875912Z",
     "start_time": "2024-09-18T14:44:25.852807Z"
    }
   },
   "id": "7ca3531d863e4027",
   "execution_count": 3
  },
  {
   "cell_type": "code",
   "outputs": [],
   "source": [],
   "metadata": {
    "collapsed": false
   },
   "id": "b66a50a02e8506dd"
  }
 ],
 "metadata": {
  "kernelspec": {
   "display_name": "Python 3",
   "language": "python",
   "name": "python3"
  },
  "language_info": {
   "codemirror_mode": {
    "name": "ipython",
    "version": 2
   },
   "file_extension": ".py",
   "mimetype": "text/x-python",
   "name": "python",
   "nbconvert_exporter": "python",
   "pygments_lexer": "ipython2",
   "version": "2.7.6"
  }
 },
 "nbformat": 4,
 "nbformat_minor": 5
}
